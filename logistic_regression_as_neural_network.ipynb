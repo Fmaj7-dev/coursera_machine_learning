{
  "nbformat": 4,
  "nbformat_minor": 0,
  "metadata": {
    "colab": {
      "name": "logistic_regression_as_neural_network.ipynb",
      "provenance": [],
      "collapsed_sections": [],
      "toc_visible": true,
      "authorship_tag": "ABX9TyPCxWUXY/VNPIQYpYs8eVul",
      "include_colab_link": true
    },
    "kernelspec": {
      "name": "python3",
      "display_name": "Python 3"
    }
  },
  "cells": [
    {
      "cell_type": "markdown",
      "metadata": {
        "id": "view-in-github",
        "colab_type": "text"
      },
      "source": [
        "<a href=\"https://colab.research.google.com/github/Fmaj7-dev/coursera_machine_learning/blob/master/logistic_regression_as_neural_network.ipynb\" target=\"_parent\"><img src=\"https://colab.research.google.com/assets/colab-badge.svg\" alt=\"Open In Colab\"/></a>"
      ]
    },
    {
      "cell_type": "markdown",
      "metadata": {
        "id": "VIHjbBQsy6Zl",
        "colab_type": "text"
      },
      "source": [
        "# Logistic regression as NN\n",
        "\n"
      ]
    },
    {
      "cell_type": "markdown",
      "metadata": {
        "id": "eGVxkVlpyvFX",
        "colab_type": "text"
      },
      "source": [
        "## Notation\n",
        "$X =\n",
        " \\underset {nx \\mspace{4mu} \\times \\mspace{4mu} m}{\n",
        " \\begin{pmatrix}\n",
        "  \\vdots & \\vdots & & \\vdots  \\\\ \n",
        " x^{(1)} & x^{(2)} & \\cdots & x^{(m)}  \\\\\n",
        " \\vdots & \\vdots & & \\vdots\n",
        " \\end{pmatrix}}$\n",
        "\n",
        " X.shape = (nx, m)\n",
        " \n",
        " $Y = \n",
        " \\begin{pmatrix}\n",
        "y^{(1)} & y^{(2)} & \\cdots & y^{(m)}\n",
        " \\end{pmatrix}$\n",
        "\n",
        " $Y \\in \\mathbb{R}^{1 \\times m}$\n",
        "\n",
        " ## Gradient Descent\n",
        " $\\hat{y} = \\sigma(w^Tx+b), \\sigma(z) = \\dfrac{1}{1+e^{-z}}$\n",
        "\n",
        " $\\mathcal{L}(\\hat{y},y)= y^{(i)}\\log{\\hat{y}^{(i)}} + (1-y^{(i)})\\log{(1-\\hat{y}^{(i)}})$\n",
        "\n",
        " $J(w, b) = \\dfrac{1}{m}\\sum_{i=1}^{m}\\mathcal{L}(\\hat{y}^{(i)},y^{(i)}) =$\n",
        "\n",
        " $-\\dfrac{1}{m}\\sum_{i=1}^{m}(y^{(i)}\\log{\\hat{y}^{(i)}} + (1-y^{(i)})\\log{(1-\\hat{y}^{(i)})})$\n",
        "\n",
        " $w := w - \\alpha\\dfrac{\\partial J(w, b)}{\\partial w}$\n",
        "\n",
        " $b := b - \\alpha\\dfrac{\\partial J(w, b)}{\\partial b}$\n",
        " "
      ]
    },
    {
      "cell_type": "markdown",
      "metadata": {
        "id": "tVpJFTQnIqlK",
        "colab_type": "text"
      },
      "source": [
        "## Vectorizing"
      ]
    },
    {
      "cell_type": "code",
      "metadata": {
        "id": "rn8UgLOBijYS",
        "colab_type": "code",
        "colab": {}
      },
      "source": [
        "import numpy as np\n",
        "\n",
        "# use vectorized operations instead of loops\n",
        "\n",
        "a = np.random.rand(100)\n",
        "b = np.random.rand(100)\n",
        "\n",
        "np.dot(a, b)\n",
        "np.log(a)\n",
        "np.abs(a)\n",
        "np.maximum(a, b)\n",
        "np.exp(a)\n",
        "dw = np.zeros(100, 1)\n",
        "\n",
        "# single iteration of gradient descent\n",
        "m = X.shape[1]\n",
        "z = np.dot(w.T, X) + b # note b is broadcasted\n",
        "A = sigmoid(z)\n",
        "cost = -np.sum(Y*np.log(A) + (1-Y)*np.log(1-A))/m\n",
        "\n",
        "Y = [y1, y2, ...,ym]\n",
        "dz = A-Y\n",
        "dw = np.dot(X, dz.T) / m\n",
        "db = np.sum(dz)/m\n",
        "\n",
        "w = w - alpha*dw\n",
        "b = b - alpha*db"
      ],
      "execution_count": 0,
      "outputs": []
    },
    {
      "cell_type": "markdown",
      "metadata": {
        "id": "8E_k_5mRIz6P",
        "colab_type": "text"
      },
      "source": [
        ""
      ]
    }
  ]
}